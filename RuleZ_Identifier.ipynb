{
  "nbformat": 4,
  "nbformat_minor": 0,
  "metadata": {
    "colab": {
      "provenance": [],
      "toc_visible": true,
      "authorship_tag": "ABX9TyMFfr8Fk8NpAekPb4cJ1sqG",
      "include_colab_link": true
    },
    "kernelspec": {
      "name": "python3",
      "display_name": "Python 3"
    },
    "language_info": {
      "name": "python"
    }
  },
  "cells": [
    {
      "cell_type": "markdown",
      "metadata": {
        "id": "view-in-github",
        "colab_type": "text"
      },
      "source": [
        "<a href=\"https://colab.research.google.com/github/gfcrbg/RuleZ/blob/master/RuleZ_Identifier.ipynb\" target=\"_parent\"><img src=\"https://colab.research.google.com/assets/colab-badge.svg\" alt=\"Open In Colab\"/></a>"
      ]
    },
    {
      "cell_type": "markdown",
      "source": [
        "# RuleZ Identifer\n"
      ],
      "metadata": {
        "id": "MtYHodZhFtfe"
      }
    },
    {
      "cell_type": "markdown",
      "source": [
        "## Reference\n",
        "\n",
        "[W3 Schools](https://www.w3schools.com/)\n",
        "\n",
        "[GitHub RuleZ Wiki](https://github.com/gfcrbg/RuleZ/wiki)"
      ],
      "metadata": {
        "id": "TzWe8l1mr-Vr"
      }
    },
    {
      "cell_type": "markdown",
      "source": [
        "\n",
        "\n",
        "---\n",
        "\n"
      ],
      "metadata": {
        "id": "HWLijIhhO9uc"
      }
    },
    {
      "cell_type": "markdown",
      "source": [
        "## Text Wrap\n",
        "\n",
        "Run this to initiate line wrapping for your code ouput.\n",
        "\n",
        "[source](https://stackoverflow.com/questions/58890109/line-wrapping-in-collaboratory-google-results)"
      ],
      "metadata": {
        "id": "bZigB-njOnX6"
      }
    },
    {
      "cell_type": "code",
      "source": [
        "from IPython.display import HTML, display\n",
        "\n",
        "def set_css():\n",
        "  display(HTML('''\n",
        "  <style>\n",
        "    pre {\n",
        "        white-space: pre-wrap;\n",
        "    }\n",
        "  </style>\n",
        "  '''))\n",
        "get_ipython().events.register('pre_run_cell', set_css)"
      ],
      "metadata": {
        "id": "ehHaun6qOWCU"
      },
      "execution_count": 1,
      "outputs": []
    },
    {
      "cell_type": "markdown",
      "source": [
        "\n",
        "\n",
        "---\n",
        "\n"
      ],
      "metadata": {
        "id": "mB8nXKZx3e54"
      }
    },
    {
      "cell_type": "markdown",
      "source": [
        "# Process\n",
        "\n",
        "\n",
        "1.   Paste the RuleZ code, from Sassie, into the multi-line string variable:\n",
        "```\n",
        "rulez_code\n",
        "```\n",
        "2.   Paste the link to the raw GitHub view of the RuleZ code in this single-line variable:\n",
        "\n",
        " [Scorecard IDs and Names](https://docs.google.com/spreadsheets/d/140ifGhWZU9y4PekAu6ZI0isBODv-wRanT1fvwsYOFMw/edit#gid=921791518)\n",
        "```\n",
        "github_link\n",
        "```\n",
        "3. Execute the following program to generate the RIDer JavaScript.  Paste the JavaScript to the Sassie scorecard.\n",
        "```\n",
        "javascript\n",
        "```\n",
        "\n",
        "\n",
        "End result.  [Image](https://drive.google.com/file/d/1fHVfA_rOdZsiI8b2dGzp-qGXPR_btayD/view?usp=drive_link) of the tool on a scorecard in Sassie."
      ],
      "metadata": {
        "id": "G0AqEuA1cTz6"
      }
    },
    {
      "cell_type": "markdown",
      "source": [
        "### (1) RuleZ QIDs"
      ],
      "metadata": {
        "id": "xf_dFuv2pEh1"
      }
    },
    {
      "cell_type": "code",
      "source": [
        "import re\n",
        "\n",
        "print(\"Enter GitHub link: \")\n",
        "github_link = input()\n",
        "\n",
        "rulez_code = \"\"\"\n",
        "\n",
        "\"\"\"\n",
        "\n",
        "\n",
        "q_values = re.findall(r'Q\\(\\d+\\)', rulez_code)\n",
        "unique_values = set(q_values)\n",
        "integers = [int(re.findall(r'\\d+', i)[0]) for i in unique_values]\n",
        "to_string = list(map(str, integers))\n",
        "lines = [len(line) for line in rulez_code.split('\\n')]\n",
        "char_count = sum(lines)\n",
        "print(to_string)\n",
        "\n",
        "# Execute to check list output.\n",
        "# The variable (to_string) will carry over to the subsequent execution."
      ],
      "metadata": {
        "colab": {
          "base_uri": "https://localhost:8080/",
          "height": 69
        },
        "id": "JKThtHxYGDC1",
        "outputId": "69607ceb-adaf-4718-9f2a-51b659070c69"
      },
      "execution_count": 97,
      "outputs": [
        {
          "output_type": "display_data",
          "data": {
            "text/plain": [
              "<IPython.core.display.HTML object>"
            ],
            "text/html": [
              "\n",
              "  <style>\n",
              "    pre {\n",
              "        white-space: pre-wrap;\n",
              "    }\n",
              "  </style>\n",
              "  "
            ]
          },
          "metadata": {}
        },
        {
          "output_type": "stream",
          "name": "stdout",
          "text": [
            "Enter GitHub link: \n",
            "test-link\n",
            "[]\n"
          ]
        }
      ]
    },
    {
      "cell_type": "markdown",
      "source": [
        "### (2) JavaScript\n"
      ],
      "metadata": {
        "id": "VxiWryTQpTNx"
      }
    },
    {
      "cell_type": "code",
      "source": [
        "# Paste the link to the raw GitHub view of the RuleZ code.\n",
        "\n",
        "javascript = f\"\"\"\n",
        "<style>\n",
        "\n",
        "#it_wiki:link {{\n",
        "  color: #6699ff;\n",
        "  background-color: transparent;\n",
        "  text-decoration: none;\n",
        "}}\n",
        "\n",
        "#it_wiki:visited {{\n",
        "  color: #6699ff;\n",
        "  background-color: transparent;\n",
        "  text-decoration: none;\n",
        "}}\n",
        "\n",
        "#it_wiki:hover {{\n",
        "  color: yellow;\n",
        "  background-color: transparent;\n",
        "  text-decoration: nonee;\n",
        "}}\n",
        "\n",
        "#it_wiki:active {{\n",
        "  color: #6699ff;\n",
        "  background-color: transparent;\n",
        "  text-decoration: underline;\n",
        "}}\n",
        "\n",
        "#info_title {{\n",
        "font-size: 17;\n",
        "color: yellow;\n",
        "}}\n",
        "\n",
        ".rulez {{\n",
        "border: 5px;\n",
        "border-style: solid;\n",
        "border-color: red;\n",
        "padding: 10px;\n",
        "margin: 0px;\n",
        "}}\n",
        "\n",
        "</style>\n",
        "\n",
        "\n",
        "<!-- NOTE\n",
        "Manually edit two things.\n",
        "A) GitHub link to raw RuleZ code\n",
        "B) The array of RuleZ QIDs generated from RuleZ Identifier.ipynb\n",
        " -->\n",
        "\n",
        "<p id = \"info_title\">RuleZ Info</p>\n",
        "This scorecard has RuleZ enabled.\n",
        "<br>\n",
        "Changes made to RuleZ QIDs can alter the state of the scorecard.  This info pane will reveal RuleZ QIDs.\n",
        "<br>\n",
        "If you have any questions, view the <a href=\"https://sites.google.com/realitybasedgroup.com/it-knowledge/sassie/rulez\"  target=\"_blank\" id = \"it_wiki\">knowledge base</a> or contact the <a href=\"https://sites.google.com/realitybasedgroup.com/it-knowledge/staff\"  target=\"_blank\"  id = \"it_wiki\"> IT Department</a>.\n",
        "<br>\n",
        "<br>\n",
        "<br>\n",
        "Highlight RuleZ QIDs (Question List only)\n",
        "<br>\n",
        "<button type = \"button\" onclick=\"identifyRulez()\">Toggle Highlight</button>\n",
        "<br>\n",
        "<br>\n",
        "Copy RuleZ QIDs\n",
        "<br>\n",
        "<input type=\"text\" id=\"myInput\" value=\"\">\n",
        "<br>\n",
        "<button type = \"button\" onclick=\"listText()\">Copy</button>\n",
        "<br>\n",
        "<br>\n",
        "View RuleZ code\n",
        "<br>\n",
        "<!-- A -->\n",
        "<button type = \"button\" onclick=\"window.open('{github_link}')\">View</button>\n",
        "<br>\n",
        "<br>\n",
        "Character count: {char_count}\n",
        "\n",
        "\n",
        "<script>\n",
        "\n",
        "// B\n",
        "var target = {to_string};\n",
        "\n",
        "var targetString = target.join(\", \");\n",
        "document.getElementById(\"myInput\").value = targetString;\n",
        "\n",
        "function identifyRulez() {{\n",
        "  var td = document.querySelectorAll('td[align=\"center\"]');\n",
        "  var list = [];\n",
        "  for (let i = 0; i < td.length; i++) {{\n",
        "    var tdValue = td[i].innerHTML;\n",
        "    list.push(tdValue);\n",
        "    if (target.includes(tdValue)) {{\n",
        "      td[i].classList.toggle(\"rulez\");\n",
        "    }}\n",
        "  }}\n",
        "}};\n",
        "\n",
        "function listText() {{\n",
        "  // Get the text field\n",
        "  var copyText = document.getElementById(\"myInput\");\n",
        "\n",
        "  // Select the text field\n",
        "  copyText.select();\n",
        "\n",
        "  // Copy the text inside the text field\n",
        "  navigator.clipboard.writeText(copyText.value);\n",
        "}};\n",
        "\n",
        "</script>\n",
        "\"\"\"\n",
        "print(javascript)"
      ],
      "metadata": {
        "colab": {
          "base_uri": "https://localhost:8080/",
          "height": 1000
        },
        "id": "3WDe-II-0YlC",
        "outputId": "8579b99a-d11b-46e4-9098-b06cf1857828"
      },
      "execution_count": 98,
      "outputs": [
        {
          "output_type": "display_data",
          "data": {
            "text/plain": [
              "<IPython.core.display.HTML object>"
            ],
            "text/html": [
              "\n",
              "  <style>\n",
              "    pre {\n",
              "        white-space: pre-wrap;\n",
              "    }\n",
              "  </style>\n",
              "  "
            ]
          },
          "metadata": {}
        },
        {
          "output_type": "stream",
          "name": "stdout",
          "text": [
            "\n",
            "<style>\n",
            "\n",
            "#it_wiki:link {\n",
            "  color: #6699ff;\n",
            "  background-color: transparent;\n",
            "  text-decoration: none;\n",
            "}\n",
            "\n",
            "#it_wiki:visited {\n",
            "  color: #6699ff;\n",
            "  background-color: transparent;\n",
            "  text-decoration: none;\n",
            "}\n",
            "\n",
            "#it_wiki:hover {\n",
            "  color: yellow;\n",
            "  background-color: transparent;\n",
            "  text-decoration: nonee;\n",
            "}\n",
            "\n",
            "#it_wiki:active {\n",
            "  color: #6699ff;\n",
            "  background-color: transparent;\n",
            "  text-decoration: underline;\n",
            "}\n",
            "\n",
            "#info_title {\n",
            "font-size: 17;\n",
            "color: yellow;\n",
            "}\n",
            "\n",
            ".rulez {\n",
            "border: 5px;\n",
            "border-style: solid;\n",
            "border-color: red;\n",
            "padding: 10px;\n",
            "margin: 0px;\n",
            "}\n",
            "\n",
            "</style>\n",
            "\n",
            "\n",
            "<!-- NOTE\n",
            "Manually edit two things.\n",
            "A) GitHub link to raw RuleZ code\n",
            "B) The array of RuleZ QIDs generated from RuleZ Identifier.ipynb\n",
            " -->\n",
            "\n",
            "<p id = \"info_title\">RuleZ Info</p>\n",
            "This scorecard has RuleZ enabled.\n",
            "<br>\n",
            "Changes made to RuleZ QIDs can alter the state of the scorecard.  This info pane will reveal RuleZ QIDs.\n",
            "<br>\n",
            "If you have any questions, view the <a href=\"https://sites.google.com/realitybasedgroup.com/it-knowledge/sassie/rulez\"  target=\"_blank\" id = \"it_wiki\">knowledge base</a> or contact the <a href=\"https://sites.google.com/realitybasedgroup.com/it-knowledge/staff\"  target=\"_blank\"  id = \"it_wiki\"> IT Department</a>.\n",
            "<br>\n",
            "<br>\n",
            "<br>\n",
            "Highlight RuleZ QIDs (Question List only)\n",
            "<br>\n",
            "<button type = \"button\" onclick=\"identifyRulez()\">Toggle Highlight</button>\n",
            "<br>\n",
            "<br>\n",
            "Copy RuleZ QIDs\n",
            "<br>\n",
            "<input type=\"text\" id=\"myInput\" value=\"\">\n",
            "<br>\n",
            "<button type = \"button\" onclick=\"listText()\">Copy</button>\n",
            "<br>\n",
            "<br>\n",
            "View RuleZ code\n",
            "<br>\n",
            "<!-- A -->\n",
            "<button type = \"button\" onclick=\"window.open('test-link')\">View</button>\n",
            "<br>\n",
            "<br>\n",
            "Character count: 0\n",
            "\n",
            "\n",
            "<script>\n",
            "\n",
            "// B\n",
            "var target = [];\n",
            "\n",
            "var targetString = target.join(\", \");\n",
            "document.getElementById(\"myInput\").value = targetString;\n",
            "\n",
            "function identifyRulez() {\n",
            "  var td = document.querySelectorAll('td[align=\"center\"]');\n",
            "  var list = [];\n",
            "  for (let i = 0; i < td.length; i++) {\n",
            "    var tdValue = td[i].innerHTML;\n",
            "    list.push(tdValue);\n",
            "    if (target.includes(tdValue)) {\n",
            "      td[i].classList.toggle(\"rulez\");\n",
            "    }\n",
            "  }\n",
            "};\n",
            "\n",
            "function listText() {\n",
            "  // Get the text field\n",
            "  var copyText = document.getElementById(\"myInput\");\n",
            "\n",
            "  // Select the text field\n",
            "  copyText.select();\n",
            "\n",
            "  // Copy the text inside the text field\n",
            "  navigator.clipboard.writeText(copyText.value);\n",
            "};\n",
            "\n",
            "</script>\n",
            "\n"
          ]
        }
      ]
    }
  ]
}